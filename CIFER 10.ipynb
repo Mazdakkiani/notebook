{
 "cells": [
  {
   "cell_type": "markdown",
   "id": "31623eef",
   "metadata": {},
   "source": [
    "# IMAGE CLASSIFICATION CIFAR10 DATASET"
   ]
  },
  {
   "cell_type": "code",
   "execution_count": 5,
   "id": "51385931",
   "metadata": {},
   "outputs": [],
   "source": [
    "import tensorflow as tf\n",
    "from tensorflow.keras import datasets, layers, models\n",
    "import numpy as np\n",
    "import matplotlib.pyplot as plt"
   ]
  },
  {
   "cell_type": "code",
   "execution_count": 7,
   "id": "6f2b88fa",
   "metadata": {},
   "outputs": [
    {
     "name": "stdout",
     "output_type": "stream",
     "text": [
      "Downloading data from https://www.cs.toronto.edu/~kriz/cifar-10-python.tar.gz\n",
      "170500096/170498071 [==============================] - 93s 1us/step\n",
      "170508288/170498071 [==============================] - 93s 1us/step\n"
     ]
    }
   ],
   "source": [
    "(x_train, y_train), (x_test, y_test) = tf.keras.datasets.cifar10.load_data()"
   ]
  },
  {
   "cell_type": "code",
   "execution_count": 8,
   "id": "ba25bf5d",
   "metadata": {},
   "outputs": [
    {
     "data": {
      "text/plain": [
       "(50000, 32, 32, 3)"
      ]
     },
     "execution_count": 8,
     "metadata": {},
     "output_type": "execute_result"
    }
   ],
   "source": [
    "x_train.shape"
   ]
  },
  {
   "cell_type": "code",
   "execution_count": 9,
   "id": "910ed4a6",
   "metadata": {},
   "outputs": [
    {
     "data": {
      "text/plain": [
       "(50000, 1)"
      ]
     },
     "execution_count": 9,
     "metadata": {},
     "output_type": "execute_result"
    }
   ],
   "source": [
    "y_train.shape"
   ]
  },
  {
   "cell_type": "code",
   "execution_count": 10,
   "id": "d895d1e6",
   "metadata": {},
   "outputs": [
    {
     "data": {
      "text/plain": [
       "(10000, 32, 32, 3)"
      ]
     },
     "execution_count": 10,
     "metadata": {},
     "output_type": "execute_result"
    }
   ],
   "source": [
    "x_test.shape"
   ]
  },
  {
   "cell_type": "code",
   "execution_count": 11,
   "id": "4fe7b455",
   "metadata": {},
   "outputs": [
    {
     "data": {
      "text/plain": [
       "(10000, 1)"
      ]
     },
     "execution_count": 11,
     "metadata": {},
     "output_type": "execute_result"
    }
   ],
   "source": [
    "y_test.shape"
   ]
  },
  {
   "cell_type": "code",
   "execution_count": 40,
   "id": "8b829a4f",
   "metadata": {},
   "outputs": [
    {
     "data": {
      "text/plain": [
       "array([[6],\n",
       "       [9],\n",
       "       [9],\n",
       "       [4],\n",
       "       [1]], dtype=uint8)"
      ]
     },
     "execution_count": 40,
     "metadata": {},
     "output_type": "execute_result"
    }
   ],
   "source": [
    "y_train[:5]"
   ]
  },
  {
   "cell_type": "code",
   "execution_count": 42,
   "id": "29e316b7",
   "metadata": {},
   "outputs": [
    {
     "data": {
      "text/plain": [
       "array([6, 9, 9, 4, 1], dtype=uint8)"
      ]
     },
     "execution_count": 42,
     "metadata": {},
     "output_type": "execute_result"
    }
   ],
   "source": [
    "y_train=y_train.reshape (-1,)\n",
    "y_train[:5]"
   ]
  },
  {
   "cell_type": "markdown",
   "id": "d1264a6d",
   "metadata": {},
   "source": [
    "## Test image"
   ]
  },
  {
   "cell_type": "code",
   "execution_count": 43,
   "id": "0b4491b2",
   "metadata": {},
   "outputs": [
    {
     "data": {
      "text/plain": [
       "<matplotlib.image.AxesImage at 0x2badf990df0>"
      ]
     },
     "execution_count": 43,
     "metadata": {},
     "output_type": "execute_result"
    },
    {
     "data": {
      "image/png": "[encoded data removed]",
      "text/plain": [
       "<Figure size 1080x144 with 1 Axes>"
      ]
     },
     "metadata": {
      "needs_background": "light"
     },
     "output_type": "display_data"
    }
   ],
   "source": [
    "plt.figure (figsize = (15,2))\n",
    "plt.imshow(x_train [1])\n"
   ]
  },
  {
   "cell_type": "code",
   "execution_count": 60,
   "id": "8725d017",
   "metadata": {},
   "outputs": [],
   "source": [
    "classes = (\"airplane\", \"automobile\", \"bird\", \"cat\", \"deer\", \"dog\",\"frog\",\"horse\",\"ship\",\"truck\")"
   ]
  },
  {
   "cell_type": "code",
   "execution_count": 61,
   "id": "f7619f59",
   "metadata": {},
   "outputs": [
    {
     "data": {
      "text/plain": [
       "'deer'"
      ]
     },
     "execution_count": 61,
     "metadata": {},
     "output_type": "execute_result"
    }
   ],
   "source": [
    "classes [4]"
   ]
  },
  {
   "cell_type": "code",
   "execution_count": 62,
   "id": "1b5543b4",
   "metadata": {},
   "outputs": [],
   "source": [
    "def plot_sample(X,y, index):\n",
    "    plt.figure(figsize = (15,2))\n",
    "    plt.imshow(X[index])\n",
    "    plt.xlabel(classes[y[index]])"
   ]
  },
  {
   "cell_type": "code",
   "execution_count": 67,
   "id": "19a85a9c",
   "metadata": {},
   "outputs": [
    {
     "data": {
      "image/png": "[encoded data removed]",
      "text/plain": [
       "<Figure size 1080x144 with 1 Axes>"
      ]
     },
     "metadata": {
      "needs_background": "light"
     },
     "output_type": "display_data"
    }
   ],
   "source": [
    "plot_sample(x_train, y_train, 55)"
   ]
  },
  {
   "cell_type": "code",
   "execution_count": 68,
   "id": "e5267437",
   "metadata": {},
   "outputs": [
    {
     "data": {
      "image/png": "[encoded data removed]",
      "text/plain": [
       "<Figure size 1080x144 with 1 Axes>"
      ]
     },
     "metadata": {
      "needs_background": "light"
     },
     "output_type": "display_data"
    }
   ],
   "source": [
    "plot_sample(x_train, y_train, 1)"
   ]
  },
  {
   "cell_type": "code",
   "execution_count": 73,
   "id": "2894792c",
   "metadata": {},
   "outputs": [],
   "source": [
    "x_train= x_train/255."
   ]
  },
  {
   "cell_type": "code",
   "execution_count": 75,
   "id": "fb21c8e3",
   "metadata": {},
   "outputs": [],
   "source": [
    "x_test=x_test/255."
   ]
  },
  {
   "cell_type": "code",
   "execution_count": 78,
   "id": "cf3277ea",
   "metadata": {},
   "outputs": [],
   "source": [
    "IMG_NN= models.Sequential([\n",
    "    \n",
    "    layers.Flatten (input_shape=(32,32,3)),\n",
    "    layers.Dense (1000, activation= 'relu'),\n",
    "    layers.Dense (1000, activation= 'relu'),\n",
    "    layers.Dense (1000, activation= 'relu'),\n",
    "    layers.Dense (10, activation= 'softmax'),\n",
    "       ])"
   ]
  },
  {
   "cell_type": "code",
   "execution_count": 81,
   "id": "2b53fc0a",
   "metadata": {},
   "outputs": [],
   "source": [
    "IMG_NN.compile (optimizer ='SGD',\n",
    "               loss='sparse_categorical_crossentropy',\n",
    "               metrics= ['accuracy'])"
   ]
  },
  {
   "cell_type": "code",
   "execution_count": 82,
   "id": "47f9bee6",
   "metadata": {},
   "outputs": [
    {
     "name": "stdout",
     "output_type": "stream",
     "text": [
      "Epoch 1/5\n",
      "1563/1563 [==============================] - 1252s 801ms/step - loss: 1.8425 - accuracy: 0.3418\n",
      "Epoch 2/5\n",
      "1563/1563 [==============================] - 60s 38ms/step - loss: 1.6454 - accuracy: 0.4152\n",
      "Epoch 3/5\n",
      "1563/1563 [==============================] - 77s 49ms/step - loss: 1.5566 - accuracy: 0.4483\n",
      "Epoch 4/5\n",
      "1563/1563 [==============================] - 77s 49ms/step - loss: 1.4916 - accuracy: 0.4718\n",
      "Epoch 5/5\n",
      "1563/1563 [==============================] - 80s 51ms/step - loss: 1.4437 - accuracy: 0.4880\n"
     ]
    },
    {
     "data": {
      "text/plain": [
       "<keras.callbacks.History at 0x2bb39c1ac10>"
      ]
     },
     "execution_count": 82,
     "metadata": {},
     "output_type": "execute_result"
    }
   ],
   "source": [
    "IMG_NN.fit (x_train, y_train, epochs=5)"
   ]
  },
  {
   "cell_type": "code",
   "execution_count": 85,
   "id": "85befb24",
   "metadata": {},
   "outputs": [
    {
     "name": "stdout",
     "output_type": "stream",
     "text": [
      "313/313 [==============================] - 6s 17ms/step - loss: 1.4995 - accuracy: 0.4685\n"
     ]
    },
    {
     "data": {
      "text/plain": [
       "[1.499462604522705, 0.4684999883174896]"
      ]
     },
     "execution_count": 85,
     "metadata": {},
     "output_type": "execute_result"
    }
   ],
   "source": [
    "IMG_NN.evaluate (x_test,y_test)"
   ]
  },
  {
   "cell_type": "code",
   "execution_count": 86,
   "id": "f8bf778a",
   "metadata": {},
   "outputs": [
    {
     "name": "stdout",
     "output_type": "stream",
     "text": [
      "Classification Report: \n",
      "               precision    recall  f1-score   support\n",
      "\n",
      "           0       0.50      0.56      0.53      1000\n",
      "           1       0.58      0.65      0.62      1000\n",
      "           2       0.44      0.17      0.24      1000\n",
      "           3       0.45      0.13      0.20      1000\n",
      "           4       0.36      0.54      0.43      1000\n",
      "           5       0.51      0.23      0.32      1000\n",
      "           6       0.39      0.70      0.50      1000\n",
      "           7       0.47      0.62      0.53      1000\n",
      "           8       0.49      0.75      0.59      1000\n",
      "           9       0.67      0.33      0.45      1000\n",
      "\n",
      "    accuracy                           0.47     10000\n",
      "   macro avg       0.49      0.47      0.44     10000\n",
      "weighted avg       0.49      0.47      0.44     10000\n",
      "\n"
     ]
    }
   ],
   "source": [
    "from sklearn.metrics import confusion_matrix, classification_report\n",
    "import numpy as np\n",
    "y_pred = IMG_NN.predict(x_test)\n",
    "y_pred_classes =[np.argmax(element) for element in y_pred]\n",
    "print (\"Classification Report: \\n\", classification_report (y_test, y_pred_classes))"
   ]
  },
  {
   "cell_type": "markdown",
   "id": "3bf6f345",
   "metadata": {},
   "source": [
    "# CNN Network"
   ]
  },
  {
   "cell_type": "code",
   "execution_count": 89,
   "id": "150ca691",
   "metadata": {},
   "outputs": [],
   "source": [
    "IMG_CNN= models.Sequential([\n",
    "    #Cnn\n",
    "    layers.Conv2D(32,(3,3),activation='relu', input_shape=(32,32,3)),\n",
    "    layers.MaxPool2D((2,2)),\n",
    "    layers.Conv2D(64,(3,3),activation='relu'),\n",
    "    layers.MaxPool2D((2,2)),\n",
    "    \n",
    "    #dense\n",
    "    layers.Flatten (),\n",
    "    layers.Dense (64, activation= 'relu'),\n",
    "    layers.Dense (10, activation= 'softmax'),\n",
    "       ])"
   ]
  },
  {
   "cell_type": "code",
   "execution_count": 90,
   "id": "5ccbf671",
   "metadata": {},
   "outputs": [],
   "source": [
    "IMG_CNN.compile (optimizer ='adam',\n",
    "               loss='sparse_categorical_crossentropy',\n",
    "               metrics= ['accuracy'])"
   ]
  },
  {
   "cell_type": "code",
   "execution_count": 91,
   "id": "8ab84fb8",
   "metadata": {},
   "outputs": [
    {
     "name": "stdout",
     "output_type": "stream",
     "text": [
      "Epoch 1/10\n",
      "1563/1563 [==============================] - 82s 46ms/step - loss: 1.4843 - accuracy: 0.4658\n",
      "Epoch 2/10\n",
      "1563/1563 [==============================] - 74s 47ms/step - loss: 1.1292 - accuracy: 0.6056\n",
      "Epoch 3/10\n",
      "1563/1563 [==============================] - 73s 47ms/step - loss: 1.0077 - accuracy: 0.6498\n",
      "Epoch 4/10\n",
      "1563/1563 [==============================] - 74s 47ms/step - loss: 0.9347 - accuracy: 0.6755\n",
      "Epoch 5/10\n",
      "1563/1563 [==============================] - 72s 46ms/step - loss: 0.8759 - accuracy: 0.6957\n",
      "Epoch 6/10\n",
      "1563/1563 [==============================] - 72s 46ms/step - loss: 0.8288 - accuracy: 0.7118\n",
      "Epoch 7/10\n",
      "1563/1563 [==============================] - 71s 46ms/step - loss: 0.7864 - accuracy: 0.7298\n",
      "Epoch 8/10\n",
      "1563/1563 [==============================] - 71s 46ms/step - loss: 0.7456 - accuracy: 0.7415\n",
      "Epoch 9/10\n",
      "1563/1563 [==============================] - 71s 46ms/step - loss: 0.7126 - accuracy: 0.7527\n",
      "Epoch 10/10\n",
      "1563/1563 [==============================] - 72s 46ms/step - loss: 0.6751 - accuracy: 0.7640\n"
     ]
    },
    {
     "data": {
      "text/plain": [
       "<keras.callbacks.History at 0x2bb3b1ec1f0>"
      ]
     },
     "execution_count": 91,
     "metadata": {},
     "output_type": "execute_result"
    }
   ],
   "source": [
    "IMG_CNN.fit (x_train, y_train, epochs=10)"
   ]
  },
  {
   "cell_type": "code",
   "execution_count": 92,
   "id": "c1524619",
   "metadata": {},
   "outputs": [
    {
     "name": "stdout",
     "output_type": "stream",
     "text": [
      "313/313 [==============================] - 27s 13ms/step - loss: 0.9254 - accuracy: 0.6953\n"
     ]
    },
    {
     "data": {
      "text/plain": [
       "[0.9253892302513123, 0.6952999830245972]"
      ]
     },
     "execution_count": 92,
     "metadata": {},
     "output_type": "execute_result"
    }
   ],
   "source": [
    "IMG_CNN.evaluate (x_test,y_test)"
   ]
  },
  {
   "cell_type": "code",
   "execution_count": 94,
   "id": "0779c8f7",
   "metadata": {},
   "outputs": [
    {
     "data": {
      "text/plain": [
       "array([3, 8, 8, 0, 6], dtype=uint8)"
      ]
     },
     "execution_count": 94,
     "metadata": {},
     "output_type": "execute_result"
    }
   ],
   "source": [
    "y_test=y_test.reshape(-1,)\n",
    "y_test[:5]"
   ]
  },
  {
   "cell_type": "code",
   "execution_count": 99,
   "id": "0a033c65",
   "metadata": {},
   "outputs": [
    {
     "data": {
      "image/png": "[encoded data removed]",
      "text/plain": [
       "<Figure size 1080x144 with 1 Axes>"
      ]
     },
     "metadata": {
      "needs_background": "light"
     },
     "output_type": "display_data"
    }
   ],
   "source": [
    "plot_sample(x_test,y_test,90)"
   ]
  },
  {
   "cell_type": "code",
   "execution_count": 100,
   "id": "39fc1bfa",
   "metadata": {},
   "outputs": [
    {
     "data": {
      "text/plain": [
       "array([[1.76498346e-04, 4.65430458e-06, 4.50175302e-03, 8.68539572e-01,\n",
       "        1.04433029e-05, 1.09630406e-01, 6.42208569e-03, 9.07099729e-06,\n",
       "        1.06353397e-02, 7.01555255e-05],\n",
       "       [7.10706925e-03, 2.40345851e-01, 3.83603510e-05, 5.67076540e-06,\n",
       "        2.20751531e-06, 9.95188202e-07, 5.55069562e-07, 1.09932182e-06,\n",
       "        7.51200438e-01, 1.29773316e-03],\n",
       "       [3.57673407e-01, 3.84422839e-02, 2.37896629e-02, 4.69761640e-02,\n",
       "        3.24059576e-02, 1.27270548e-02, 2.75131245e-03, 9.45900381e-03,\n",
       "        4.27596122e-01, 4.81791012e-02],\n",
       "       [9.38119888e-01, 5.70179604e-04, 3.02918851e-02, 1.84706494e-03,\n",
       "        1.09486394e-02, 5.52244783e-05, 4.32645204e-04, 3.15559337e-05,\n",
       "        1.73797272e-02, 3.23178043e-04],\n",
       "       [1.82675865e-06, 5.55259385e-06, 3.30388099e-02, 4.95769680e-02,\n",
       "        2.06205070e-01, 7.30873225e-03, 7.03785479e-01, 2.98678642e-05,\n",
       "        4.32760098e-05, 4.46780814e-06]], dtype=float32)"
      ]
     },
     "execution_count": 100,
     "metadata": {},
     "output_type": "execute_result"
    }
   ],
   "source": [
    "p_pred =IMG_CNN.predict(x_test)\n",
    "p_pred[:5]"
   ]
  },
  {
   "cell_type": "code",
   "execution_count": 117,
   "id": "f2f3d080",
   "metadata": {},
   "outputs": [
    {
     "data": {
      "text/plain": [
       "[6, 8, 8, 8, 4, 6, 3, 4, 4, 1, 8, 9, 6, 7, 1]"
      ]
     },
     "execution_count": 117,
     "metadata": {},
     "output_type": "execute_result"
    }
   ],
   "source": [
    "y_classes = [np.argmax(element) for element in y_pred]\n",
    "y_classes[:15]"
   ]
  },
  {
   "cell_type": "code",
   "execution_count": 118,
   "id": "1ed7a1c8",
   "metadata": {},
   "outputs": [
    {
     "data": {
      "text/plain": [
       "array([3, 8, 8, 0, 6, 6, 1, 6, 3, 1, 0, 9, 5, 7, 9], dtype=uint8)"
      ]
     },
     "execution_count": 118,
     "metadata": {},
     "output_type": "execute_result"
    }
   ],
   "source": [
    "y_test [:15]"
   ]
  },
  {
   "cell_type": "code",
   "execution_count": 128,
   "id": "445a22b2",
   "metadata": {},
   "outputs": [
    {
     "data": {
      "image/png": "[encoded data removed]",
      "text/plain": [
       "<Figure size 1080x144 with 1 Axes>"
      ]
     },
     "metadata": {
      "needs_background": "light"
     },
     "output_type": "display_data"
    }
   ],
   "source": [
    "plot_sample(x_test,y_test,9)"
   ]
  },
  {
   "cell_type": "code",
   "execution_count": 127,
   "id": "cf3bb194",
   "metadata": {},
   "outputs": [
    {
     "data": {
      "text/plain": [
       "'automobile'"
      ]
     },
     "execution_count": 127,
     "metadata": {},
     "output_type": "execute_result"
    }
   ],
   "source": [
    "classes[y_classes[9]]"
   ]
  },
  {
   "cell_type": "code",
   "execution_count": 129,
   "id": "dd715228",
   "metadata": {},
   "outputs": [
    {
     "name": "stdout",
     "output_type": "stream",
     "text": [
      "Classification Report: \n",
      "               precision    recall  f1-score   support\n",
      "\n",
      "           0       0.50      0.56      0.53      1000\n",
      "           1       0.58      0.65      0.62      1000\n",
      "           2       0.44      0.17      0.24      1000\n",
      "           3       0.45      0.13      0.20      1000\n",
      "           4       0.36      0.54      0.43      1000\n",
      "           5       0.51      0.23      0.32      1000\n",
      "           6       0.39      0.70      0.50      1000\n",
      "           7       0.47      0.62      0.53      1000\n",
      "           8       0.49      0.75      0.59      1000\n",
      "           9       0.67      0.33      0.45      1000\n",
      "\n",
      "    accuracy                           0.47     10000\n",
      "   macro avg       0.49      0.47      0.44     10000\n",
      "weighted avg       0.49      0.47      0.44     10000\n",
      "\n"
     ]
    }
   ],
   "source": [
    "print (\"Classification Report: \\n\", classification_report (y_test, y_classes))"
   ]
  },
  {
   "cell_type": "code",
   "execution_count": 131,
   "id": "e0e09040",
   "metadata": {},
   "outputs": [
    {
     "name": "stdout",
     "output_type": "stream",
     "text": [
      "Classification Report: \n",
      "               precision    recall  f1-score   support\n",
      "\n",
      "           0       0.50      0.56      0.53      1000\n",
      "           1       0.58      0.65      0.62      1000\n",
      "           2       0.44      0.17      0.24      1000\n",
      "           3       0.45      0.13      0.20      1000\n",
      "           4       0.36      0.54      0.43      1000\n",
      "           5       0.51      0.23      0.32      1000\n",
      "           6       0.39      0.70      0.50      1000\n",
      "           7       0.47      0.62      0.53      1000\n",
      "           8       0.49      0.75      0.59      1000\n",
      "           9       0.67      0.33      0.45      1000\n",
      "\n",
      "    accuracy                           0.47     10000\n",
      "   macro avg       0.49      0.47      0.44     10000\n",
      "weighted avg       0.49      0.47      0.44     10000\n",
      "\n"
     ]
    }
   ],
   "source": [
    "\n",
    "print (\"Classification Report: \\n\", classification_report (y_test, y_classes))"
   ]
  },
  {
   "cell_type": "code",
   "execution_count": null,
   "id": "4d00f242",
   "metadata": {},
   "outputs": [],
   "source": []
  }
 ],
 "metadata": {
  "kernelspec": {
   "display_name": "Python 3 (ipykernel)",
   "language": "python",
   "name": "python3"
  },
  "language_info": {
   "codemirror_mode": {
    "name": "ipython",
    "version": 3
   },
   "file_extension": ".py",
   "mimetype": "text/x-python",
   "name": "python",
   "nbconvert_exporter": "python",
   "pygments_lexer": "ipython3",
   "version": "3.9.7"
  }
 },
 "nbformat": 4,
 "nbformat_minor": 5
}
